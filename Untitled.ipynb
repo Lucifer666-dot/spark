{
 "cells": [
  {
   "cell_type": "code",
   "execution_count": 3,
   "id": "a13e517d-0ed4-44ce-a5e2-a888844c1c5a",
   "metadata": {},
   "outputs": [
    {
     "ename": "SyntaxError",
     "evalue": "invalid syntax (2312461849.py, line 1)",
     "output_type": "error",
     "traceback": [
      "\u001b[0;36m  Cell \u001b[0;32mIn[3], line 1\u001b[0;36m\u001b[0m\n\u001b[0;31m    $540000000\u001b[0m\n\u001b[0m    ^\u001b[0m\n\u001b[0;31mSyntaxError\u001b[0m\u001b[0;31m:\u001b[0m invalid syntax\n"
     ]
    }
   ],
   "source": [
    "$540000000"
   ]
  },
  {
   "cell_type": "raw",
   "id": "a82a0c23-4d82-4088-a8eb-35699dd6220f",
   "metadata": {},
   "source": [
    "$99999\n"
   ]
  },
  {
   "cell_type": "raw",
   "id": "325338d2-ad9c-4e2e-9e40-87c813f8aa29",
   "metadata": {},
   "source": []
  },
  {
   "cell_type": "code",
   "execution_count": null,
   "id": "9ecc13e8-474c-4273-955a-46381654b80c",
   "metadata": {},
   "outputs": [],
   "source": []
  }
 ],
 "metadata": {
  "kernelspec": {
   "display_name": "Python 3 (ipykernel)",
   "language": "python",
   "name": "python3"
  },
  "language_info": {
   "codemirror_mode": {
    "name": "ipython",
    "version": 3
   },
   "file_extension": ".py",
   "mimetype": "text/x-python",
   "name": "python",
   "nbconvert_exporter": "python",
   "pygments_lexer": "ipython3",
   "version": "3.12.1"
  }
 },
 "nbformat": 4,
 "nbformat_minor": 5
}
